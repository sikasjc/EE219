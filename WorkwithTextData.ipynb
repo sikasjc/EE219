{
 "cells": [
  {
   "cell_type": "markdown",
   "metadata": {},
   "source": [
    "# Project1 Classification Analysis on Textual Data"
   ]
  },
  {
   "cell_type": "markdown",
   "metadata": {},
   "source": [
    "### Load Files"
   ]
  },
  {
   "cell_type": "code",
   "execution_count": 1,
   "metadata": {
    "collapsed": true
   },
   "outputs": [],
   "source": [
    "from sklearn.datasets import fetch_20newsgroups\n",
    "categories = ['comp.graphics', 'comp.os.ms-windows.misc', 'comp.sys.ibm.pc.hardware','comp.sys.mac.hardware','rec.autos','rec.motorcycles','rec.sport.baseball','rec.sport.hockey']\n",
    "train = fetch_20newsgroups(subset='train', categories=categories, shuffle=True, random_state=42)\n",
    "test = fetch_20newsgroups(subset='test', categories=categories, shuffle=True, random_state=42)"
   ]
  },
  {
   "cell_type": "markdown",
   "metadata": {},
   "source": [
    "### Problem A"
   ]
  },
  {
   "cell_type": "code",
   "execution_count": 2,
   "metadata": {},
   "outputs": [
    {
     "data": {
      "image/png": "[encoded data removed]",
      "text/plain": [
       "<matplotlib.figure.Figure at 0x2632fc3aac8>"
      ]
     },
     "metadata": {},
     "output_type": "display_data"
    }
   ],
   "source": [
    "import matplotlib.pyplot as plt\n",
    "\n",
    "value = {}\n",
    "for i in train.target:\n",
    "    if i not in value:\n",
    "        value[i] = 0\n",
    "    else:\n",
    "        value[i] += 1\n",
    "fig = plt.figure()\n",
    "ax = fig.add_subplot(111)\n",
    "colors = ['b','g','r','y','m','c','pink','k']\n",
    "plt.barh(train.target_names, list(value.values()),alpha=0.8, color=colors)\n",
    "plt.xlabel('Class')\n",
    "plt.ylabel('Number')\n",
    "plt.title('the Number of Documents per Class')\n",
    "plt.legend()\n",
    "plt.show()"
   ]
  },
  {
   "cell_type": "markdown",
   "metadata": {
    "collapsed": true
   },
   "source": [
    "### Problem B"
   ]
  },
  {
   "cell_type": "markdown",
   "metadata": {},
   "source": [
    "First tokenize each document into words."
   ]
  },
  {
   "cell_type": "code",
   "execution_count": 3,
   "metadata": {},
   "outputs": [
    {
     "data": {
      "text/plain": [
       "(4732, 79218)"
      ]
     },
     "execution_count": 3,
     "metadata": {},
     "output_type": "execute_result"
    }
   ],
   "source": [
    "from sklearn.feature_extraction.text import CountVectorizer\n",
    "count_vectorizer = CountVectorizer(min_df=1)\n",
    "train_counts = count_vectorizer.fit_transform(train.data)\n",
    "train_counts.shape"
   ]
  },
  {
   "cell_type": "markdown",
   "metadata": {},
   "source": [
    "Then, excluding the stop words, punctuations, and using stemmed version of words, create a TFxIDF vector representations."
   ]
  },
  {
   "cell_type": "code",
   "execution_count": 4,
   "metadata": {},
   "outputs": [
    {
     "name": "stdout",
     "output_type": "stream",
     "text": [
      "Number of terms Extracted : 10741\n"
     ]
    }
   ],
   "source": [
    "from sklearn.feature_extraction import text\n",
    "from nltk.stem.snowball import SnowballStemmer\n",
    "import string,re\n",
    "\n",
    "def stemming_tokenizer(text):\n",
    "    stemmer = SnowballStemmer(\"english\")\n",
    "    text = \"\".join([a for a in text if a not in string.punctuation]) # remove all punctuation\n",
    "    text = re.sub('[,.-:/()?{}*$#&]',' ', text) # remove all symbols\n",
    "    text = \"\".join(b for b in text if ord(b) < 128) # remove all non-ascii characters\n",
    "    words = text.split()\n",
    "    stemmed = [stemmer.stem(item) for item in words]\n",
    "    return stemmed\n",
    "\n",
    "stop_words = text.ENGLISH_STOP_WORDS\n",
    "\n",
    "count_vect_final = CountVectorizer(analyzer='word' , tokenizer=stemming_tokenizer, stop_words=stop_words, min_df=4, max_df =0.99)\n",
    "train_counts_final = count_vect_final.fit_transform(train.data)\n",
    "\n",
    "print (\"Number of terms Extracted : \" + str(train_counts_final.shape[1]))"
   ]
  },
  {
   "cell_type": "markdown",
   "metadata": {},
   "source": [
    "TFxIDF"
   ]
  },
  {
   "cell_type": "code",
   "execution_count": 5,
   "metadata": {},
   "outputs": [
    {
     "data": {
      "text/plain": [
       "(4732, 10741)"
      ]
     },
     "execution_count": 5,
     "metadata": {},
     "output_type": "execute_result"
    }
   ],
   "source": [
    "from sklearn.feature_extraction.text import TfidfTransformer\n",
    "\n",
    "tfidf_transformer = TfidfTransformer()\n",
    "tfidf_train = tfidf_transformer.fit_transform(train_counts_final)\n",
    "tfidf_train.shape"
   ]
  },
  {
   "cell_type": "markdown",
   "metadata": {},
   "source": [
    "### Problem C"
   ]
  },
  {
   "cell_type": "markdown",
   "metadata": {},
   "source": [
    "Find the 10 most significant terms in each of the following classes with respect to TFxICF measure."
   ]
  },
  {
   "cell_type": "markdown",
   "metadata": {},
   "source": [
    "TF -- the term frequency in a class"
   ]
  },
  {
   "cell_type": "code",
   "execution_count": 6,
   "metadata": {},
   "outputs": [
    {
     "data": {
      "text/plain": [
       "(20, 111882)"
      ]
     },
     "execution_count": 6,
     "metadata": {},
     "output_type": "execute_result"
    }
   ],
   "source": [
    "all_categories = ['comp.graphics',\n",
    "                'comp.os.ms-windows.misc',\n",
    "                'comp.sys.ibm.pc.hardware',\n",
    "                'comp.sys.mac.hardware',\n",
    "                'comp.windows.x',\n",
    "                'rec.autos',\n",
    "                'rec.motorcycles',\n",
    "                'rec.sport.baseball',\n",
    "                'rec.sport.hockey',\n",
    "                'alt.atheism',\n",
    "                'sci.crypt',\n",
    "                'sci.electronics',\n",
    "                'sci.med',\n",
    "                'sci.space',\n",
    "                'soc.religion.christian',\n",
    "                'misc.forsale',\n",
    "                'talk.politics.guns',\n",
    "                'talk.politics.mideast',\n",
    "                'talk.politics.misc',\n",
    "                'talk.religion.misc'\n",
    "                ]\n",
    "\n",
    "all_docs_per_category = []\n",
    "for cate in all_categories:\n",
    "    category_data = fetch_20newsgroups(subset='train',categories=[cate]).data\n",
    "    temp = \"\"\n",
    "    for doc in category_data:\n",
    "        temp = temp + \" \"+ doc\n",
    "    all_docs_per_category.append(temp)\n",
    "    \n",
    "vectorizer = CountVectorizer(analyzer='word',stop_words=stop_words, tokenizer=stemming_tokenizer)\n",
    "vectorized_newsgroups_train = vectorizer.fit_transform(all_docs_per_category)\n",
    "vectorized_newsgroups_train.shape"
   ]
  },
  {
   "cell_type": "markdown",
   "metadata": {},
   "source": [
    "Calculate the TFxICF"
   ]
  },
  {
   "cell_type": "code",
   "execution_count": 7,
   "metadata": {
    "collapsed": true,
    "scrolled": true
   },
   "outputs": [],
   "source": [
    "tficf_train = tfidf_transformer.fit_transform(vectorized_newsgroups_train)"
   ]
  },
  {
   "cell_type": "markdown",
   "metadata": {},
   "source": [
    "Find the 10 most significant terms"
   ]
  },
  {
   "cell_type": "code",
   "execution_count": 9,
   "metadata": {},
   "outputs": [
    {
     "name": "stdout",
     "output_type": "stream",
     "text": [
      "comp.sys.ibm.pc.hardware ['scsi', 'drive', 'ide', 'use', 'line', 'subject', 'organ', 'card', 'control', 'mb']\n",
      "comp.sys.mac.hardware ['line', 'mac', 'subject', 'organ', 'use', 'quadra', 'simm', 'appl', 'scsi', 'problem']\n",
      "soc.religion.christian ['god', 'christian', 'jesus', 'church', 'subject', 'peopl', 'line', 'say', 'christ', 'believ']\n",
      "misc.forsale ['line', 'subject', 'sale', 'organ', 'univers', 'new', 'use', 'offer', 'dos', 'nntppostinghost']\n"
     ]
    }
   ],
   "source": [
    "import numpy as np\n",
    "\n",
    "tficf_train_copy = tficf_train.copy()\n",
    "features = vectorizer.get_feature_names()\n",
    "for i in [2, 3, 14, 15]:\n",
    "    temp = []\n",
    "    for j in range(10):\n",
    "        temp.append(features[np.argmax(tficf_train_copy[i])])\n",
    "        tficf_train_copy[i, np.argmax(tficf_train_copy[i])] = 0\n",
    "    print(all_categories[i],temp)"
   ]
  },
  {
   "cell_type": "markdown",
   "metadata": {},
   "source": [
    "### Problem D"
   ]
  },
  {
   "cell_type": "markdown",
   "metadata": {},
   "source": [
    "Apply LSI to TFxIDF matrix corresponding to the 8 classes, and pick k=50."
   ]
  },
  {
   "cell_type": "code",
   "execution_count": 11,
   "metadata": {},
   "outputs": [
    {
     "name": "stdout",
     "output_type": "stream",
     "text": [
      "Dimensions of TF-IDF vector after LSI: (4732, 50)\n"
     ]
    }
   ],
   "source": [
    "from sklearn.decomposition import TruncatedSVD\n",
    "from sklearn.preprocessing import MinMaxScaler\n",
    "\n",
    "SVD = TruncatedSVD(n_components=50, random_state=42)\n",
    "transformed_tfidf = SVD.fit_transform(tfidf_train)\n",
    "print(\"Dimensions of TF-IDF vector after LSI: \"+ str(transformed_tfidf.shape))\n",
    "\n",
    "Min_Max_Scaler = MinMaxScaler()# normalize\n",
    "scaled_lsi = Min_Max_Scaler.fit_transform(transformed_tfidf)"
   ]
  },
  {
   "cell_type": "markdown",
   "metadata": {},
   "source": [
    "### Problem E"
   ]
  },
  {
   "cell_type": "markdown",
   "metadata": {},
   "source": [
    "Use hard margin SVM classifer (SVC) to separate the documents into 'Computer Technology' vs 'Recreational Activity' groups."
   ]
  },
  {
   "cell_type": "markdown",
   "metadata": {
    "collapsed": true
   },
   "source": [
    "test data preperation"
   ]
  },
  {
   "cell_type": "code",
   "execution_count": null,
   "metadata": {
    "collapsed": true
   },
   "outputs": [],
   "source": []
  }
 ],
 "metadata": {
  "kernelspec": {
   "display_name": "Python 3",
   "language": "python",
   "name": "python3"
  },
  "language_info": {
   "codemirror_mode": {
    "name": "ipython",
    "version": 3
   },
   "file_extension": ".py",
   "mimetype": "text/x-python",
   "name": "python",
   "nbconvert_exporter": "python",
   "pygments_lexer": "ipython3",
   "version": "3.6.3"
  }
 },
 "nbformat": 4,
 "nbformat_minor": 2
}
