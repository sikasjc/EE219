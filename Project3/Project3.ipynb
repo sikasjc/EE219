{
 "cells": [
  {
   "cell_type": "markdown",
   "metadata": {},
   "source": [
    "### Question 1:\n",
    "Compute the sparsity of the movie rating dataset, where sparsity is defined by equation 1"
   ]
  },
  {
   "cell_type": "code",
   "execution_count": 1,
   "metadata": {
    "collapsed": true
   },
   "outputs": [],
   "source": [
    "import pandas as pd\n",
    "\n",
    "path = './datasets/ratings.csv'\n",
    "user_ratings = pd.read_csv(path)"
   ]
  },
  {
   "cell_type": "code",
   "execution_count": 2,
   "metadata": {},
   "outputs": [
    {
     "data": {
      "text/html": [
       "<div>\n",
       "<style>\n",
       "    .dataframe thead tr:only-child th {\n",
       "        text-align: right;\n",
       "    }\n",
       "\n",
       "    .dataframe thead th {\n",
       "        text-align: left;\n",
       "    }\n",
       "\n",
       "    .dataframe tbody tr th {\n",
       "        vertical-align: top;\n",
       "    }\n",
       "</style>\n",
       "<table border=\"1\" class=\"dataframe\">\n",
       "  <thead>\n",
       "    <tr style=\"text-align: right;\">\n",
       "      <th></th>\n",
       "      <th>userId</th>\n",
       "      <th>movieId</th>\n",
       "      <th>rating</th>\n",
       "      <th>timestamp</th>\n",
       "    </tr>\n",
       "  </thead>\n",
       "  <tbody>\n",
       "    <tr>\n",
       "      <th>0</th>\n",
       "      <td>1</td>\n",
       "      <td>31</td>\n",
       "      <td>2.5</td>\n",
       "      <td>1260759144</td>\n",
       "    </tr>\n",
       "    <tr>\n",
       "      <th>1</th>\n",
       "      <td>1</td>\n",
       "      <td>1029</td>\n",
       "      <td>3.0</td>\n",
       "      <td>1260759179</td>\n",
       "    </tr>\n",
       "    <tr>\n",
       "      <th>2</th>\n",
       "      <td>1</td>\n",
       "      <td>1061</td>\n",
       "      <td>3.0</td>\n",
       "      <td>1260759182</td>\n",
       "    </tr>\n",
       "    <tr>\n",
       "      <th>3</th>\n",
       "      <td>1</td>\n",
       "      <td>1129</td>\n",
       "      <td>2.0</td>\n",
       "      <td>1260759185</td>\n",
       "    </tr>\n",
       "    <tr>\n",
       "      <th>4</th>\n",
       "      <td>1</td>\n",
       "      <td>1172</td>\n",
       "      <td>4.0</td>\n",
       "      <td>1260759205</td>\n",
       "    </tr>\n",
       "    <tr>\n",
       "      <th>5</th>\n",
       "      <td>1</td>\n",
       "      <td>1263</td>\n",
       "      <td>2.0</td>\n",
       "      <td>1260759151</td>\n",
       "    </tr>\n",
       "    <tr>\n",
       "      <th>6</th>\n",
       "      <td>1</td>\n",
       "      <td>1287</td>\n",
       "      <td>2.0</td>\n",
       "      <td>1260759187</td>\n",
       "    </tr>\n",
       "    <tr>\n",
       "      <th>7</th>\n",
       "      <td>1</td>\n",
       "      <td>1293</td>\n",
       "      <td>2.0</td>\n",
       "      <td>1260759148</td>\n",
       "    </tr>\n",
       "    <tr>\n",
       "      <th>8</th>\n",
       "      <td>1</td>\n",
       "      <td>1339</td>\n",
       "      <td>3.5</td>\n",
       "      <td>1260759125</td>\n",
       "    </tr>\n",
       "    <tr>\n",
       "      <th>9</th>\n",
       "      <td>1</td>\n",
       "      <td>1343</td>\n",
       "      <td>2.0</td>\n",
       "      <td>1260759131</td>\n",
       "    </tr>\n",
       "  </tbody>\n",
       "</table>\n",
       "</div>"
      ],
      "text/plain": [
       "   userId  movieId  rating   timestamp\n",
       "0       1       31     2.5  1260759144\n",
       "1       1     1029     3.0  1260759179\n",
       "2       1     1061     3.0  1260759182\n",
       "3       1     1129     2.0  1260759185\n",
       "4       1     1172     4.0  1260759205\n",
       "5       1     1263     2.0  1260759151\n",
       "6       1     1287     2.0  1260759187\n",
       "7       1     1293     2.0  1260759148\n",
       "8       1     1339     3.5  1260759125\n",
       "9       1     1343     2.0  1260759131"
      ]
     },
     "execution_count": 2,
     "metadata": {},
     "output_type": "execute_result"
    }
   ],
   "source": [
    "user_ratings.head(10)"
   ]
  },
  {
   "cell_type": "code",
   "execution_count": 3,
   "metadata": {},
   "outputs": [
    {
     "data": {
      "text/plain": [
       "0.016439141608663475"
      ]
     },
     "execution_count": 3,
     "metadata": {},
     "output_type": "execute_result"
    }
   ],
   "source": [
    "user_ids = user_ratings['userId']\n",
    "movie_ids = user_ratings['movieId']\n",
    "ratings = user_ratings['rating']\n",
    "\n",
    "user_id = set(user_ids)\n",
    "movie_id = set(movie_ids)\n",
    "total_possible = len(user_id)*len(movie_id)\n",
    "total_available = len(ratings)\n",
    "\n",
    "the_sparity = total_available/total_possible\n",
    "the_sparity"
   ]
  },
  {
   "cell_type": "markdown",
   "metadata": {},
   "source": [
    "### Question 2:\n",
    "Plot a histogram showing the frequency of the rating values. To\n",
    "be specific, bin the rating values into intervals of width 0.5 and use the binned\n",
    "rating values as the horizontal axis. Count the number of entries in the ratings\n",
    "matrix R with rating values in the binned intervals and use this count as the\n",
    "vertical axis. Briefly comment on the shape of the histogram"
   ]
  },
  {
   "cell_type": "code",
   "execution_count": 4,
   "metadata": {},
   "outputs": [
    {
     "data": {
      "image/png": "[encoded data removed]",
      "text/plain": [
       "<matplotlib.figure.Figure at 0x2837844ba20>"
      ]
     },
     "metadata": {},
     "output_type": "display_data"
    }
   ],
   "source": [
    "import matplotlib.pyplot as plt\n",
    "import numpy as np\n",
    "from matplotlib.ticker import MultipleLocator\n",
    "\n",
    "rating_dict = {}\n",
    "for i in ratings:\n",
    "    if i not in rating_dict:\n",
    "        rating_dict[i] = 0\n",
    "    else:\n",
    "        rating_dict[i] += 1\n",
    "    \n",
    "plt.bar(np.linspace(0.5,5,10),list(rating_dict[k] for k in sorted(rating_dict.keys())) ,alpha=0.8, width=0.4)\n",
    "\n",
    "xmajorLocator = MultipleLocator(0.5)\n",
    "ax = plt.gca()\n",
    "ax.xaxis.set_major_locator(xmajorLocator) \n",
    "\n",
    "plt.xlabel('Rating')\n",
    "plt.ylabel('Number')\n",
    "plt.show()"
   ]
  },
  {
   "cell_type": "markdown",
   "metadata": {
    "collapsed": true
   },
   "source": [
    "### Question 3: \n",
    "Plot the distribution of ratings among movies. To be specific,\n",
    "the X-axis should be the movie index ordered by decreasing frequency and the\n",
    "Y-axis should be the number of ratings the movie has received."
   ]
  },
  {
   "cell_type": "code",
   "execution_count": 5,
   "metadata": {
    "collapsed": true
   },
   "outputs": [],
   "source": [
    "number_of_movie_rating = {} # store the dict{movie id : the number of rating}\n",
    "movie_ids_listed = list(movie_ids)\n",
    "for i in movie_id:\n",
    "    number_of_movie_rating[i] = movie_ids_listed.count(i)"
   ]
  },
  {
   "cell_type": "code",
   "execution_count": 6,
   "metadata": {
    "collapsed": true
   },
   "outputs": [],
   "source": [
    "number_of_movie_rating_sorted = sorted(number_of_movie_rating.items(), key=lambda e:e[1], reverse=True)# sorted dict by values i.e. the number of rating\n",
    "\n",
    "movies_sorted = []\n",
    "number_of_rating = []\n",
    "for i in number_of_movie_rating_sorted:\n",
    "    movies_sorted.append(i[0])\n",
    "    number_of_rating.append(i[1])"
   ]
  },
  {
   "cell_type": "code",
   "execution_count": 7,
   "metadata": {},
   "outputs": [
    {
     "data": {
      "image/png": "[encoded data removed]",
      "text/plain": [
       "<matplotlib.figure.Figure at 0x283783f5ac8>"
      ]
     },
     "metadata": {},
     "output_type": "display_data"
    }
   ],
   "source": [
    "plt.plot(number_of_rating)\n",
    "plt.xlabel('Movie ID')\n",
    "plt.ylabel('Number')\n",
    "plt.show()"
   ]
  },
  {
   "cell_type": "markdown",
   "metadata": {},
   "source": [
    "### Question 4: \n",
    "Plot the distribution of ratings among users. To be specific, the X-axis should be the user index ordered by decreasing frequency and the Y-axis should be the number of movies the user have rated."
   ]
  },
  {
   "cell_type": "code",
   "execution_count": 8,
   "metadata": {
    "collapsed": true
   },
   "outputs": [],
   "source": [
    "number_of_user_rating = {} # store the dict{user id : the number of movies the user have rated}\n",
    "user_ids_listed = list(user_ids)\n",
    "for i in user_id:\n",
    "    number_of_user_rating[i] = user_ids_listed.count(i)"
   ]
  },
  {
   "cell_type": "code",
   "execution_count": 9,
   "metadata": {
    "collapsed": true
   },
   "outputs": [],
   "source": [
    "number_of_user_rating_sorted = sorted(number_of_user_rating.items(), key=lambda e:e[1], reverse=True)\n",
    "# sorted dict by values i.e. the number of movies the user have rated\n",
    "\n",
    "users_sorted = []\n",
    "number_of_user_rating = []\n",
    "for i in number_of_user_rating_sorted:\n",
    "    users_sorted.append(i[0])\n",
    "    number_of_user_rating.append(i[1])"
   ]
  },
  {
   "cell_type": "code",
   "execution_count": 10,
   "metadata": {},
   "outputs": [
    {
     "data": {
      "image/png": "[encoded data removed]",
      "text/plain": [
       "<matplotlib.figure.Figure at 0x28378f18240>"
      ]
     },
     "metadata": {},
     "output_type": "display_data"
    }
   ],
   "source": [
    "plt.plot(number_of_user_rating)\n",
    "plt.xlabel('User ID')\n",
    "plt.ylabel('Number')\n",
    "plt.show()"
   ]
  },
  {
   "cell_type": "markdown",
   "metadata": {},
   "source": [
    "### Question 5: \n",
    "Explain the salient features of the distribution found in question 3 and their implications for the recommendation process."
   ]
  },
  {
   "cell_type": "markdown",
   "metadata": {
    "collapsed": true
   },
   "source": [
    "A large number of movies received few ratings，and the number of ratings the movie receives is not the same，which can make it harder to train the model and the model has less accuracy and may not be stable."
   ]
  },
  {
   "cell_type": "markdown",
   "metadata": {},
   "source": [
    "### Question 6: \n",
    "Compute the variance of the rating values received by each movie.Then, bin the variance values into intervals of width 0.5 and use the binned variance values as the horizontal axis. Count the number of movies with variance\n",
    "values in the binned intervals and use this count as the vertical axis. Briefly comment on the shape of the histogram"
   ]
  },
  {
   "cell_type": "code",
   "execution_count": 11,
   "metadata": {
    "collapsed": true
   },
   "outputs": [],
   "source": [
    "from collections import defaultdict\n",
    "import pandas as pd\n",
    "\n",
    "d = defaultdict(list)\n",
    "for i, j in zip(movie_ids, ratings):# create a multidict {movie id: [the ratings of the movie]}\n",
    "    d[i].append(j)"
   ]
  },
  {
   "cell_type": "code",
   "execution_count": 12,
   "metadata": {
    "collapsed": true
   },
   "outputs": [],
   "source": [
    "movie_rating_variance = {}\n",
    "for i, j in d.items():\n",
    "    movie_rating_variance[i] = np.var(j) # create a dict {movie id: the variance of the rating values received by the movie }"
   ]
  },
  {
   "cell_type": "code",
   "execution_count": 13,
   "metadata": {},
   "outputs": [],
   "source": [
    "from itertools import groupby\n",
    "\n",
    "movie_rating_variance_group = {}\n",
    "for key, group in groupby(sorted(movie_rating_variance.values()), key=lambda x: x//0.5):\n",
    "    movie_rating_variance_group['{}-{}'.format(key*0.5, (key+1)*0.5)] = len(list(group))"
   ]
  },
  {
   "cell_type": "code",
   "execution_count": 14,
   "metadata": {},
   "outputs": [
    {
     "data": {
      "text/plain": [
       "{'-0.0-0.5': 5285,\n",
       " '0.5-1.0': 2218,\n",
       " '1.0-1.5': 1057,\n",
       " '1.5-2.0': 307,\n",
       " '2.0-2.5': 128,\n",
       " '2.5-3.0': 31,\n",
       " '3.0-3.5': 22,\n",
       " '3.5-4.0': 4,\n",
       " '4.0-4.5': 11,\n",
       " '5.0-5.5': 3}"
      ]
     },
     "execution_count": 14,
     "metadata": {},
     "output_type": "execute_result"
    }
   ],
   "source": [
    "movie_rating_variance_group"
   ]
  },
  {
   "cell_type": "code",
   "execution_count": 15,
   "metadata": {},
   "outputs": [
    {
     "data": {
      "image/png": "[encoded data removed]",
      "text/plain": [
       "<matplotlib.figure.Figure at 0x2837abca748>"
      ]
     },
     "metadata": {},
     "output_type": "display_data"
    }
   ],
   "source": [
    "plt.figure(figsize=(10,10))\n",
    "plt.bar(movie_rating_variance_group.keys(), movie_rating_variance_group.values(),alpha=0.8)\n",
    "\n",
    "#xmajorLocator = MultipleLocator(0.5)\n",
    "#ax = plt.gca()\n",
    "#ax.xaxis.set_major_locator(xmajorLocator) \n",
    "\n",
    "plt.xlabel('Rating Interval')\n",
    "plt.ylabel('Number')\n",
    "plt.show()"
   ]
  }
 ],
 "metadata": {
  "kernelspec": {
   "display_name": "Python 3",
   "language": "python",
   "name": "python3"
  },
  "language_info": {
   "codemirror_mode": {
    "name": "ipython",
    "version": 3
   },
   "file_extension": ".py",
   "mimetype": "text/x-python",
   "name": "python",
   "nbconvert_exporter": "python",
   "pygments_lexer": "ipython3",
   "version": "3.6.3"
  }
 },
 "nbformat": 4,
 "nbformat_minor": 2
}
