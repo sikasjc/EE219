{
 "cells": [
  {
   "cell_type": "markdown",
   "metadata": {},
   "source": [
    "# Project1 Classification Analysis on Textual Data"
   ]
  },
  {
   "cell_type": "markdown",
   "metadata": {},
   "source": [
    "## Problem A"
   ]
  },
  {
   "cell_type": "markdown",
   "metadata": {},
   "source": [
    "Load Files"
   ]
  },
  {
   "cell_type": "code",
   "execution_count": 1,
   "metadata": {
    "collapsed": true
   },
   "outputs": [],
   "source": [
    "from sklearn.datasets import fetch_20newsgroups\n",
    "categories = ['comp.graphics', 'comp.os.ms-windows.misc', 'comp.sys.ibm.pc.hardware','comp.sys.mac.hardware','rec.autos','rec.motorcycles','rec.sport.baseball','rec.sport.hockey']\n",
    "train = fetch_20newsgroups(subset='train', categories=categories, shuffle=True, random_state=42)"
   ]
  },
  {
   "cell_type": "code",
   "execution_count": 2,
   "metadata": {},
   "outputs": [
    {
     "data": {
      "image/png": "[encoded data removed]",
      "text/plain": [
       "<matplotlib.figure.Figure at 0x1c5b4d600b8>"
      ]
     },
     "metadata": {},
     "output_type": "display_data"
    }
   ],
   "source": [
    "import matplotlib.pyplot as plt\n",
    "\n",
    "value = {}\n",
    "for i in train.target:\n",
    "    if i not in value:\n",
    "        value[i] = 0\n",
    "    else:\n",
    "        value[i] += 1\n",
    "fig = plt.figure()\n",
    "ax = fig.add_subplot(111)\n",
    "colors = ['b','g','r','y','m','c','pink','k']\n",
    "plt.barh(train.target_names, list(value.values()),alpha=0.8, color=colors)\n",
    "plt.xlabel('Class')\n",
    "plt.ylabel('Number')\n",
    "plt.title('the Number of Documents per Class')\n",
    "plt.show()"
   ]
  },
  {
   "cell_type": "markdown",
   "metadata": {
    "collapsed": true
   },
   "source": [
    "## Problem B"
   ]
  },
  {
   "cell_type": "markdown",
   "metadata": {},
   "source": [
    "First tokenize each document into words."
   ]
  },
  {
   "cell_type": "code",
   "execution_count": 3,
   "metadata": {},
   "outputs": [
    {
     "data": {
      "text/plain": [
       "(4732, 79218)"
      ]
     },
     "execution_count": 3,
     "metadata": {},
     "output_type": "execute_result"
    }
   ],
   "source": [
    "from sklearn.feature_extraction.text import CountVectorizer\n",
    "count_vectorizer = CountVectorizer(min_df=1)\n",
    "train_counts = count_vectorizer.fit_transform(train.data)\n",
    "train_counts.shape"
   ]
  },
  {
   "cell_type": "markdown",
   "metadata": {},
   "source": [
    "Then, excluding the stop words, punctuations, and using stemmed version of words, create a TFxIDF vector representations."
   ]
  },
  {
   "cell_type": "code",
   "execution_count": 4,
   "metadata": {},
   "outputs": [
    {
     "name": "stdout",
     "output_type": "stream",
     "text": [
      "Number of terms Extracted : 10741\n",
      "Number of terms Extracted if mid_df=2: 21793\n",
      "Number of terms Extracted if mid_df=5: 8816\n"
     ]
    }
   ],
   "source": [
    "from sklearn.feature_extraction import text\n",
    "from nltk.stem.snowball import SnowballStemmer\n",
    "import string,re\n",
    "\n",
    "def stemming_tokenizer(text):\n",
    "    stemmer = SnowballStemmer(\"english\")\n",
    "    text = \"\".join([a for a in text if a not in string.punctuation]) # remove all punctuation\n",
    "    text = re.sub('[,.-:/()?{}*$#&]',' ', text) # remove all symbols\n",
    "    text = \"\".join(b for b in text if ord(b) < 128) # remove all non-ascii characters\n",
    "    words = text.split()\n",
    "    stemmed = [stemmer.stem(item) for item in words]\n",
    "    return stemmed\n",
    "\n",
    "stop_words = text.ENGLISH_STOP_WORDS\n",
    "\n",
    "count_vect_final = CountVectorizer(analyzer='word' , tokenizer=stemming_tokenizer, stop_words=stop_words, min_df=4, max_df =0.99)\n",
    "train_counts_final = count_vect_final.fit_transform(train.data)\n",
    "\n",
    "count_vect_2 = CountVectorizer(analyzer='word' , tokenizer=stemming_tokenizer, stop_words=stop_words, min_df=2, max_df =0.99)\n",
    "train_counts_2 = count_vect_2.fit_transform(train.data)\n",
    "\n",
    "count_vect_5 = CountVectorizer(analyzer='word' , tokenizer=stemming_tokenizer, stop_words=stop_words, min_df=5, max_df =0.99)\n",
    "train_counts_5 = count_vect_5.fit_transform(train.data)\n",
    "\n",
    "print (\"Number of terms Extracted : \" + str(train_counts_final.shape[1]))\n",
    "print (\"Number of terms Extracted if mid_df=2: \" + str(train_counts_2.shape[1]))\n",
    "print (\"Number of terms Extracted if mid_df=5: \" + str(train_counts_5.shape[1]))"
   ]
  },
  {
   "cell_type": "markdown",
   "metadata": {},
   "source": [
    "TFxIDF"
   ]
  },
  {
   "cell_type": "code",
   "execution_count": 5,
   "metadata": {},
   "outputs": [
    {
     "data": {
      "text/plain": [
       "(4732, 10741)"
      ]
     },
     "execution_count": 5,
     "metadata": {},
     "output_type": "execute_result"
    }
   ],
   "source": [
    "from sklearn.feature_extraction.text import TfidfTransformer\n",
    "\n",
    "tfidf_transformer = TfidfTransformer()\n",
    "tfidf_train = tfidf_transformer.fit_transform(train_counts_final)\n",
    "tfidf_train.shape"
   ]
  },
  {
   "cell_type": "markdown",
   "metadata": {},
   "source": [
    "## Problem C"
   ]
  },
  {
   "cell_type": "markdown",
   "metadata": {},
   "source": [
    "Find the 10 most significant terms in each of the following classes with respect to TFxICF measure."
   ]
  },
  {
   "cell_type": "markdown",
   "metadata": {},
   "source": [
    "TF -- the term frequency in a class"
   ]
  },
  {
   "cell_type": "code",
   "execution_count": 6,
   "metadata": {},
   "outputs": [
    {
     "data": {
      "text/plain": [
       "(20, 111882)"
      ]
     },
     "execution_count": 6,
     "metadata": {},
     "output_type": "execute_result"
    }
   ],
   "source": [
    "all_categories = ['comp.graphics',\n",
    "                'comp.os.ms-windows.misc',\n",
    "                'comp.sys.ibm.pc.hardware',\n",
    "                'comp.sys.mac.hardware',\n",
    "                'comp.windows.x',\n",
    "                'rec.autos',\n",
    "                'rec.motorcycles',\n",
    "                'rec.sport.baseball',\n",
    "                'rec.sport.hockey',\n",
    "                'alt.atheism',\n",
    "                'sci.crypt',\n",
    "                'sci.electronics',\n",
    "                'sci.med',\n",
    "                'sci.space',\n",
    "                'soc.religion.christian',\n",
    "                'misc.forsale',\n",
    "                'talk.politics.guns',\n",
    "                'talk.politics.mideast',\n",
    "                'talk.politics.misc',\n",
    "                'talk.religion.misc'\n",
    "                ]\n",
    "\n",
    "all_docs_per_category = []\n",
    "for cate in all_categories:\n",
    "    category_data = fetch_20newsgroups(subset='train',categories=[cate]).data\n",
    "    temp = \"\"\n",
    "    for doc in category_data:\n",
    "        temp = temp + \" \"+ doc\n",
    "    all_docs_per_category.append(temp)\n",
    "    \n",
    "vectorizer = CountVectorizer(analyzer='word',stop_words=stop_words, tokenizer=stemming_tokenizer)\n",
    "vectorized_newsgroups_train = vectorizer.fit_transform(all_docs_per_category)\n",
    "vectorized_newsgroups_train.shape"
   ]
  },
  {
   "cell_type": "markdown",
   "metadata": {},
   "source": [
    "Calculate the TFxICF"
   ]
  },
  {
   "cell_type": "code",
   "execution_count": 7,
   "metadata": {
    "collapsed": true,
    "scrolled": true
   },
   "outputs": [],
   "source": [
    "tficf_train = tfidf_transformer.fit_transform(vectorized_newsgroups_train)"
   ]
  },
  {
   "cell_type": "markdown",
   "metadata": {},
   "source": [
    "Find the 10 most significant terms"
   ]
  },
  {
   "cell_type": "code",
   "execution_count": 8,
   "metadata": {},
   "outputs": [
    {
     "name": "stdout",
     "output_type": "stream",
     "text": [
      "comp.sys.ibm.pc.hardware ['scsi', 'drive', 'ide', 'use', 'line', 'subject', 'organ', 'card', 'control', 'mb']\n",
      "comp.sys.mac.hardware ['line', 'mac', 'subject', 'organ', 'use', 'quadra', 'simm', 'appl', 'scsi', 'problem']\n",
      "soc.religion.christian ['god', 'christian', 'jesus', 'church', 'subject', 'peopl', 'line', 'say', 'christ', 'believ']\n",
      "misc.forsale ['line', 'subject', 'sale', 'organ', 'univers', 'new', 'use', 'offer', 'dos', 'nntppostinghost']\n"
     ]
    }
   ],
   "source": [
    "import numpy as np\n",
    "\n",
    "tficf_train_copy = tficf_train.copy()\n",
    "features = vectorizer.get_feature_names()\n",
    "for i in [2, 3, 14, 15]:\n",
    "    temp = []\n",
    "    for j in range(10):\n",
    "        temp.append(features[np.argmax(tficf_train_copy[i])])\n",
    "        tficf_train_copy[i, np.argmax(tficf_train_copy[i])] = 0\n",
    "    print(all_categories[i],temp)"
   ]
  },
  {
   "cell_type": "markdown",
   "metadata": {},
   "source": [
    "## Problem D"
   ]
  },
  {
   "cell_type": "markdown",
   "metadata": {},
   "source": [
    "Apply **LSI** to TFxIDF matrix corresponding to the 8 classes, and pick k=50."
   ]
  },
  {
   "cell_type": "code",
   "execution_count": 9,
   "metadata": {},
   "outputs": [
    {
     "name": "stdout",
     "output_type": "stream",
     "text": [
      "Dimensions of TF-IDF vector after LSI: (4732, 50)\n"
     ]
    }
   ],
   "source": [
    "from sklearn.decomposition import TruncatedSVD\n",
    "\n",
    "SVD = TruncatedSVD(n_components=50, random_state=42)\n",
    "transformed_tfidf = SVD.fit_transform(tfidf_train)\n",
    "print(\"Dimensions of TF-IDF vector after LSI: \"+ str(transformed_tfidf.shape))"
   ]
  },
  {
   "cell_type": "markdown",
   "metadata": {},
   "source": [
    "Alternatively, reduce dimensionality through Non-Negeative Matrix Factorization(**NMF**), and pick k=50."
   ]
  },
  {
   "cell_type": "code",
   "execution_count": 10,
   "metadata": {},
   "outputs": [
    {
     "data": {
      "text/plain": [
       "(4732, 50)"
      ]
     },
     "execution_count": 10,
     "metadata": {},
     "output_type": "execute_result"
    }
   ],
   "source": [
    "from sklearn.decomposition import NMF\n",
    "\n",
    "trainNMF = NMF(n_components=50, init='random', random_state=42)\n",
    "NMFed_train = trainNMF.fit_transform(tfidf_train)\n",
    "NMFed_train.shape"
   ]
  },
  {
   "cell_type": "markdown",
   "metadata": {},
   "source": [
    "## Problem E"
   ]
  },
  {
   "cell_type": "markdown",
   "metadata": {},
   "source": [
    "### Use hard margin SVM classifer (SVC) to separate the documents into 'Computer Technology' vs 'Recreational Activity' groups."
   ]
  },
  {
   "cell_type": "markdown",
   "metadata": {
    "collapsed": true
   },
   "source": [
    "Build a hard margin SVM classifier(SVC)"
   ]
  },
  {
   "cell_type": "code",
   "execution_count": 11,
   "metadata": {
    "scrolled": true
   },
   "outputs": [
    {
     "data": {
      "text/plain": [
       "LinearSVC(C=1000, class_weight=None, dual=False, fit_intercept=True,\n",
       "     intercept_scaling=1, loss='squared_hinge', max_iter=1000,\n",
       "     multi_class='ovr', penalty='l2', random_state=42, tol=0.0001,\n",
       "     verbose=0)"
      ]
     },
     "execution_count": 11,
     "metadata": {},
     "output_type": "execute_result"
    }
   ],
   "source": [
    "from sklearn import svm\n",
    "hard_classifier = svm.LinearSVC(C=1000 ,dual=False, random_state=42)\n",
    "train_targets = []# bigger than or equal to 4 belongs to recreational activity  \n",
    "for i in train.target:\n",
    "    if i >= 4:\n",
    "        train_targets.append(1)\n",
    "    else:\n",
    "        train_targets.append(0)\n",
    "        \n",
    "hard_classifier.fit(transformed_tfidf, train_targets)#train the classifier"
   ]
  },
  {
   "cell_type": "markdown",
   "metadata": {},
   "source": [
    "Preparing the test data"
   ]
  },
  {
   "cell_type": "code",
   "execution_count": 12,
   "metadata": {
    "collapsed": true
   },
   "outputs": [],
   "source": [
    "test = fetch_20newsgroups(subset=\"test\", categories=categories, shuffle=True, random_state=42)\n",
    "test_counts = count_vect_final.fit_transform(test.data)#using the train CountVectorizer\n",
    "tfidf_test = tfidf_transformer.fit_transform(test_counts)#using the train TfidfTransformer\n",
    "transformed_test_tfidf = SVD.fit_transform(tfidf_test)#using the train TruncatedSVD\n",
    "\n",
    "test_targets = []# bigger than or equal to 4 belongs to recreational activity  \n",
    "for i in test.target:\n",
    "    if i >= 4:\n",
    "        test_targets.append(1)\n",
    "    else:\n",
    "        test_targets.append(0)"
   ]
  },
  {
   "cell_type": "markdown",
   "metadata": {},
   "source": [
    "Predict the test data"
   ]
  },
  {
   "cell_type": "code",
   "execution_count": 13,
   "metadata": {
    "collapsed": true
   },
   "outputs": [],
   "source": [
    "predicted = hard_classifier.predict(transformed_test_tfidf)"
   ]
  },
  {
   "cell_type": "markdown",
   "metadata": {},
   "source": [
    "plot the ROC curve, report the confusion matrix and calculate the accuracy, recall and precision of classifier."
   ]
  },
  {
   "cell_type": "code",
   "execution_count": 14,
   "metadata": {},
   "outputs": [
    {
     "name": "stdout",
     "output_type": "stream",
     "text": [
      "Accuracy of Hard Margin SVM: 0.873968253968\n",
      "------------------------------------------------------------\n",
      "Classification report: \n",
      "                       precision    recall  f1-score   support\n",
      "\n",
      "  Computer technology       0.88      0.86      0.87      1560\n",
      "Recreational activity       0.87      0.89      0.88      1590\n",
      "\n",
      "          avg / total       0.87      0.87      0.87      3150\n",
      "\n",
      "------------------------------------------------------------\n",
      "Confusion Matrix: \n",
      "[[1345  215]\n",
      " [ 182 1408]]\n",
      "------------------------------------------------------------\n"
     ]
    },
    {
     "data": {
      "image/png": "[encoded data removed]",
      "text/plain": [
       "<matplotlib.figure.Figure at 0x1c5b7f9d588>"
      ]
     },
     "metadata": {},
     "output_type": "display_data"
    }
   ],
   "source": [
    "from sklearn.metrics import classification_report, confusion_matrix, roc_curve\n",
    "\n",
    "score = hard_classifier.decision_function(transformed_test_tfidf)\n",
    "accuracy = np.mean(predicted == test_targets)\n",
    "# Report results\n",
    "print(\"Accuracy of Hard Margin SVM: \" + str(accuracy))\n",
    "print(\"-\"*60)\n",
    "print(\"Classification report: \")\n",
    "print(classification_report(test_targets, predicted, target_names=['Computer technology', 'Recreational activity']))\n",
    "print(\"-\"*60)\n",
    "print(\"Confusion Matrix: \")\n",
    "print(confusion_matrix(test_targets, predicted))\n",
    "print(\"-\"*60)\n",
    "\n",
    "fpr, tpr, threshold = roc_curve(test_targets, score)\n",
    "line = [0, 1]\n",
    "plt.figure(figsize=(10,10))\n",
    "plt.plot(fpr, tpr)\n",
    "plt.plot([0,1],[0,1])\n",
    "plt.ylabel('True Positive Rate', fontsize = 20)\n",
    "plt.xlabel('False Positive Rate', fontsize = 20)\n",
    "plt.title('ROC-Curve of Hard Margin SVM Classification', fontsize = 20)\n",
    "plt.axis([-0.004, 1, 0, 1.006])\n",
    "plt.show()"
   ]
  },
  {
   "cell_type": "markdown",
   "metadata": {},
   "source": [
    "### Use soft margin SVM classifer to separate the documents into 'Computer Technology' vs 'Recreational Activity' groups."
   ]
  },
  {
   "cell_type": "code",
   "execution_count": 15,
   "metadata": {},
   "outputs": [
    {
     "data": {
      "text/plain": [
       "LinearSVC(C=0.001, class_weight=None, dual=False, fit_intercept=True,\n",
       "     intercept_scaling=1, loss='squared_hinge', max_iter=1000,\n",
       "     multi_class='ovr', penalty='l2', random_state=42, tol=0.0001,\n",
       "     verbose=0)"
      ]
     },
     "execution_count": 15,
     "metadata": {},
     "output_type": "execute_result"
    }
   ],
   "source": [
    "soft_classifier = svm.LinearSVC( C=0.001 ,dual=False, random_state=42)\n",
    "soft_classifier.fit(transformed_tfidf, train_targets)"
   ]
  },
  {
   "cell_type": "code",
   "execution_count": 16,
   "metadata": {},
   "outputs": [
    {
     "name": "stdout",
     "output_type": "stream",
     "text": [
      "Accuracy of soft margin Linear SVM: 0.925079365079\n",
      "------------------------------------------------------------\n",
      "Classification report: \n",
      "                       precision    recall  f1-score   support\n",
      "\n",
      "  Computer technology       0.97      0.88      0.92      1560\n",
      "Recreational activity       0.89      0.97      0.93      1590\n",
      "\n",
      "          avg / total       0.93      0.93      0.92      3150\n",
      "\n",
      "------------------------------------------------------------\n",
      "Confusion Matrix: \n",
      "[[1370  190]\n",
      " [  46 1544]]\n",
      "------------------------------------------------------------\n"
     ]
    },
    {
     "data": {
      "image/png": "[encoded data removed]",
      "text/plain": [
       "<matplotlib.figure.Figure at 0x1c5b80ea630>"
      ]
     },
     "metadata": {},
     "output_type": "display_data"
    }
   ],
   "source": [
    "predicted_soft = soft_classifier.predict(transformed_test_tfidf)\n",
    "score_soft = soft_classifier.decision_function(transformed_test_tfidf)\n",
    "accuracy_soft = np.mean(predicted_soft == test_targets)\n",
    "# Report results\n",
    "print(\"Accuracy of soft margin Linear SVM: \" + str(accuracy_soft))\n",
    "print(\"-\"*60)\n",
    "print(\"Classification report: \")\n",
    "print(classification_report(test_targets, predicted_soft, target_names=['Computer technology', 'Recreational activity']))\n",
    "print(\"-\"*60)\n",
    "print(\"Confusion Matrix: \")\n",
    "print(confusion_matrix(test_targets, predicted_soft))\n",
    "print(\"-\"*60)\n",
    "\n",
    "fpr_soft, tpr_soft, threshold_soft = roc_curve(test_targets, score_soft)\n",
    "line = [0, 1]\n",
    "plt.figure(figsize=(10,10))\n",
    "plt.plot(fpr_soft, tpr_soft)\n",
    "plt.plot([0,1],[0,1])\n",
    "plt.ylabel('True Positive Rate', fontsize = 20)\n",
    "plt.xlabel('False Positive Rate', fontsize = 20)\n",
    "plt.title('ROC-Curve of Soft Margin SVM Classification', fontsize = 20)\n",
    "plt.axis([-0.004, 1, 0, 1.006])\n",
    "plt.show()"
   ]
  },
  {
   "cell_type": "markdown",
   "metadata": {},
   "source": [
    "###  Alternatively，classify documents using NMF to reduce dimensionality  "
   ]
  },
  {
   "cell_type": "markdown",
   "metadata": {},
   "source": [
    "Passing：May be completed later"
   ]
  },
  {
   "cell_type": "markdown",
   "metadata": {},
   "source": [
    "## Problem F"
   ]
  },
  {
   "cell_type": "markdown",
   "metadata": {},
   "source": [
    "Using a 5-fold cross_validation, find the best value of the parameter $ \\gamma $ in the range  $ \\left \\{ 10^k \\mid -3 \\leq k \\leq 3, k \\in Z \\right \\} $"
   ]
  },
  {
   "cell_type": "code",
   "execution_count": 17,
   "metadata": {},
   "outputs": [
    {
     "name": "stdout",
     "output_type": "stream",
     "text": [
      "Accuracy: 0.94674847 (+/- 0.00886187)\n",
      "Accuracy: 0.96619121 (+/- 0.01106256)\n",
      "Accuracy: 0.96999537 (+/- 0.01415634)\n",
      "Accuracy: 0.97591079 (+/- 0.00815218)\n",
      "Accuracy: 0.97675623 (+/- 0.00692097)\n",
      "Accuracy: 0.97612198 (+/- 0.00687109)\n",
      "Accuracy: 0.97633340 (+/- 0.00817760)\n",
      "Best Accuracy is 0.97675623 obtained for gamma = 10\n"
     ]
    }
   ],
   "source": [
    "from sklearn.model_selection import cross_val_score\n",
    "\n",
    "best_score = 0\n",
    "best_gamma = 0\n",
    "for gamma_value in [0.001, 0.01, 0.1, 1, 10, 100, 1000]:\n",
    "    classifier = svm.LinearSVC(C=gamma_value, dual=False, random_state=42)\n",
    "    classifier.fit(transformed_tfidf, train_targets)\n",
    "    scores = (cross_val_score(classifier, transformed_tfidf, train_targets, cv=5))\n",
    "    if scores.mean() > best_score:\n",
    "        best_score = scores.mean()\n",
    "        best_gamma = gamma_value\n",
    "    \n",
    "    print(\"Accuracy: %0.8f (+/- %0.8f)\" % (scores.mean(), scores.std() * 2)) # But I really don't know what is the best gamma stand for...\n",
    "\n",
    "print(\"Best Accuracy is %0.8f obtained for gamma = \" % best_score + str(best_gamma))      "
   ]
  },
  {
   "cell_type": "code",
   "execution_count": 18,
   "metadata": {},
   "outputs": [
    {
     "name": "stdout",
     "output_type": "stream",
     "text": [
      "Accuracy of Linear SVM using gamma=10 : 0.87873015873\n",
      "------------------------------------------------------------\n",
      "Classification report: \n",
      "                       precision    recall  f1-score   support\n",
      "\n",
      "  Computer technology       0.88      0.87      0.88      1560\n",
      "Recreational activity       0.88      0.88      0.88      1590\n",
      "\n",
      "          avg / total       0.88      0.88      0.88      3150\n",
      "\n",
      "------------------------------------------------------------\n",
      "Confusion Matrix: \n",
      "[[1362  198]\n",
      " [ 184 1406]]\n",
      "------------------------------------------------------------\n"
     ]
    },
    {
     "data": {
      "image/png": "[encoded data removed]",
      "text/plain": [
       "<matplotlib.figure.Figure at 0x1c5b2376ac8>"
      ]
     },
     "metadata": {},
     "output_type": "display_data"
    }
   ],
   "source": [
    "bestclassifier = svm.LinearSVC(C=best_gamma, dual=False, random_state=42)\n",
    "bestclassifier.fit(transformed_tfidf, train_targets)\n",
    "prediction = bestclassifier.predict(transformed_test_tfidf)\n",
    "onescore = bestclassifier.decision_function(transformed_test_tfidf)\n",
    "oneaccuracy = np.mean(prediction == test_targets)\n",
    "# Report results\n",
    "print(\"Accuracy of Linear SVM using gamma=%s : \" % best_gamma + str(oneaccuracy))\n",
    "print(\"-\"*60)\n",
    "print(\"Classification report: \")\n",
    "print(classification_report(test_targets, prediction, target_names=['Computer technology', 'Recreational activity']))\n",
    "print(\"-\"*60)\n",
    "print(\"Confusion Matrix: \")\n",
    "print(confusion_matrix(test_targets, prediction))\n",
    "print(\"-\"*60)\n",
    "\n",
    "onefpr, onetpr, onethreshold = roc_curve(test_targets, onescore)\n",
    "line = [0, 1]\n",
    "plt.figure(figsize=(10,10))\n",
    "plt.plot(onefpr, onetpr)\n",
    "plt.plot([0,1],[0,1])\n",
    "plt.ylabel('True Positive Rate', fontsize = 20)\n",
    "plt.xlabel('False Positive Rate', fontsize = 20)\n",
    "plt.title('ROC-Curve of Linear SVM Classification Using Gamma = '+ str(best_gamma), fontsize = 20)\n",
    "plt.axis([-0.004, 1, 0, 1.006])\n",
    "plt.show()"
   ]
  },
  {
   "cell_type": "markdown",
   "metadata": {},
   "source": [
    "\n",
    "## Problem G"
   ]
  },
  {
   "cell_type": "markdown",
   "metadata": {},
   "source": [
    "Using Naïve Bayes algorithm for the same classification task"
   ]
  },
  {
   "cell_type": "markdown",
   "metadata": {
    "collapsed": true
   },
   "source": [
    "Train a multinomial naïve Bayes classifier and plot the ROC curve for different values of the threshold on\n",
    "class probabilities. "
   ]
  },
  {
   "cell_type": "code",
   "execution_count": 19,
   "metadata": {},
   "outputs": [
    {
     "name": "stdout",
     "output_type": "stream",
     "text": [
      "Accuracy of multinomial naïve Bayes: 0.846984126984\n",
      "------------------------------------------------------------\n",
      "Classification report: \n",
      "                       precision    recall  f1-score   support\n",
      "\n",
      "  Computer technology       0.99      0.70      0.82      1560\n",
      "Recreational activity       0.77      0.99      0.87      1590\n",
      "\n",
      "          avg / total       0.88      0.85      0.84      3150\n",
      "\n",
      "------------------------------------------------------------\n",
      "Confusion Matrix: \n",
      "[[1087  473]\n",
      " [   9 1581]]\n",
      "------------------------------------------------------------\n"
     ]
    },
    {
     "data": {
      "image/png": "[encoded data removed]",
      "text/plain": [
       "<matplotlib.figure.Figure at 0x1c5b7f3f1d0>"
      ]
     },
     "metadata": {},
     "output_type": "display_data"
    }
   ],
   "source": [
    "from sklearn.naive_bayes import MultinomialNB\n",
    "from sklearn.preprocessing import MinMaxScaler\n",
    "\n",
    "min_max_scaler = MinMaxScaler()\n",
    "scaled_tfidf= min_max_scaler.fit_transform(transformed_tfidf)\n",
    "scaled_test_tfidf = min_max_scaler.fit_transform(transformed_test_tfidf)\n",
    "\n",
    "NB = MultinomialNB()\n",
    "NB.fit(scaled_tfidf, train_targets)\n",
    "NBprediction = NB.predict(scaled_test_tfidf)\n",
    "NBaccuracy = np.mean(NBprediction == test_targets)\n",
    "predict_probability = NB.predict_proba(scaled_test_tfidf[:])[:,1]\n",
    "\n",
    "# Report results\n",
    "print(\"Accuracy of multinomial naïve Bayes: \" + str(NBaccuracy))\n",
    "print(\"-\"*60)\n",
    "print(\"Classification report: \")\n",
    "print(classification_report(test_targets, NBprediction, target_names=['Computer technology', 'Recreational activity']))\n",
    "print(\"-\"*60)\n",
    "print(\"Confusion Matrix: \")\n",
    "print(confusion_matrix(test_targets, NBprediction))\n",
    "print(\"-\"*60)\n",
    "\n",
    "NBfpr, NBtpr, NBthreshold = roc_curve(test_targets, predict_probability)\n",
    "line = [0, 1]\n",
    "plt.figure(figsize=(10,10))\n",
    "plt.plot(NBfpr, NBtpr)\n",
    "plt.plot([0,1],[0,1])\n",
    "plt.ylabel('True Positive Rate', fontsize = 20)\n",
    "plt.xlabel('False Positive Rate', fontsize = 20)\n",
    "plt.title('ROC-Curve of multinomial naïve Bayes', fontsize = 20)\n",
    "plt.axis([-0.004, 1, 0, 1.006])\n",
    "plt.show()"
   ]
  },
  {
   "cell_type": "markdown",
   "metadata": {},
   "source": [
    "## Problem H"
   ]
  },
  {
   "cell_type": "markdown",
   "metadata": {},
   "source": [
    "Repeat the same task with the logistic regression classifier, and plot the ROC curve for different\n",
    "values of the threshold on class probabilities."
   ]
  },
  {
   "cell_type": "code",
   "execution_count": 20,
   "metadata": {},
   "outputs": [
    {
     "name": "stdout",
     "output_type": "stream",
     "text": [
      "Accuracy of logistic regression classifier: 0.916507936508\n",
      "------------------------------------------------------------\n",
      "Classification report: \n",
      "                       precision    recall  f1-score   support\n",
      "\n",
      "  Computer technology       0.92      0.91      0.92      1560\n",
      "Recreational activity       0.92      0.92      0.92      1590\n",
      "\n",
      "          avg / total       0.92      0.92      0.92      3150\n",
      "\n",
      "------------------------------------------------------------\n",
      "Confusion Matrix: \n",
      "[[1426  134]\n",
      " [ 129 1461]]\n",
      "------------------------------------------------------------\n"
     ]
    },
    {
     "data": {
      "image/png": "[encoded data removed]",
      "text/plain": [
       "<matplotlib.figure.Figure at 0x1c5b7f77828>"
      ]
     },
     "metadata": {},
     "output_type": "display_data"
    }
   ],
   "source": [
    "from sklearn.linear_model import LogisticRegression\n",
    "\n",
    "logclassifier = LogisticRegression()\n",
    "logclassifier.fit(transformed_tfidf, train_targets)\n",
    "logprediction = logclassifier.predict(transformed_test_tfidf)\n",
    "logaccuracy = np.mean(logprediction == test_targets)\n",
    "logpredict_probability = logclassifier.predict_proba(transformed_test_tfidf[:])[:,1]\n",
    "\n",
    "# Report results\n",
    "print(\"Accuracy of logistic regression classifier: \" + str(logaccuracy))\n",
    "print(\"-\"*60)\n",
    "print(\"Classification report: \")\n",
    "print(classification_report(test_targets, logprediction, target_names=['Computer technology', 'Recreational activity']))\n",
    "print(\"-\"*60)\n",
    "print(\"Confusion Matrix: \")\n",
    "print(confusion_matrix(test_targets, logprediction))\n",
    "print(\"-\"*60)\n",
    "\n",
    "logfpr, logtpr, logthreshold = roc_curve(test_targets, logpredict_probability)\n",
    "line = [0, 1]\n",
    "plt.figure(figsize=(10,10))\n",
    "plt.plot(logfpr,logtpr)\n",
    "plt.plot([0,1],[0,1])\n",
    "plt.ylabel('True Positive Rate', fontsize = 20)\n",
    "plt.xlabel('False Positive Rate', fontsize = 20)\n",
    "plt.title('ROC-Curve of multinomial naïve Bayes', fontsize = 20)\n",
    "plt.axis([-0.004, 1, 0, 1.006])\n",
    "plt.show()"
   ]
  },
  {
   "cell_type": "markdown",
   "metadata": {},
   "source": [
    "## Problem I"
   ]
  },
  {
   "cell_type": "markdown",
   "metadata": {},
   "source": [
    "Repeat part (h) by adding a regularization term to the optimization objective. Try both $l_1$ and $l_2$\n",
    "norm regularizations and sweep through different regularization coefficients, ranging from very small\n",
    "ones to large ones"
   ]
  },
  {
   "cell_type": "markdown",
   "metadata": {
    "collapsed": true
   },
   "source": [
    "$l_1$ norm regularizations "
   ]
  },
  {
   "cell_type": "code",
   "execution_count": 25,
   "metadata": {
    "scrolled": true
   },
   "outputs": [
    {
     "name": "stdout",
     "output_type": "stream",
     "text": [
      "l1 Logistic regression: c = 0.001, accuracy = 0.49523809523809526, coeff[0] = 0.00000\n",
      "Classification report: \n",
      "                       precision    recall  f1-score   support\n",
      "\n",
      "  Computer technology       0.50      1.00      0.66      1560\n",
      "Recreational activity       0.00      0.00      0.00      1590\n",
      "\n",
      "          avg / total       0.25      0.50      0.33      3150\n",
      "\n",
      "Confusion Matrix: \n",
      "[[1560    0]\n",
      " [1590    0]]\n",
      "============================================================\n",
      "l1 Logistic regression: c = 0.1, accuracy = 0.9158730158730158, coeff[0] = 0.00000\n",
      "Classification report: \n",
      "                       precision    recall  f1-score   support\n",
      "\n",
      "  Computer technology       0.90      0.94      0.92      1560\n",
      "Recreational activity       0.94      0.89      0.91      1590\n",
      "\n",
      "          avg / total       0.92      0.92      0.92      3150\n",
      "\n",
      "Confusion Matrix: \n",
      "[[1467   93]\n",
      " [ 172 1418]]\n",
      "============================================================\n",
      "l1 Logistic regression: c = 10, accuracy = 0.8812698412698413, coeff[0] = -6.99587\n",
      "Classification report: \n",
      "                       precision    recall  f1-score   support\n",
      "\n",
      "  Computer technology       0.88      0.88      0.88      1560\n",
      "Recreational activity       0.88      0.89      0.88      1590\n",
      "\n",
      "          avg / total       0.88      0.88      0.88      3150\n",
      "\n",
      "Confusion Matrix: \n",
      "[[1365  195]\n",
      " [ 179 1411]]\n",
      "============================================================\n"
     ]
    },
    {
     "name": "stderr",
     "output_type": "stream",
     "text": [
      "C:\\Users\\sikas\\Anaconda3\\lib\\site-packages\\sklearn\\metrics\\classification.py:1135: UndefinedMetricWarning: Precision and F-score are ill-defined and being set to 0.0 in labels with no predicted samples.\n",
      "  'precision', 'predicted', average, warn_for)\n"
     ]
    },
    {
     "name": "stdout",
     "output_type": "stream",
     "text": [
      "l1 Logistic regression: c = 1000, accuracy = 0.8736507936507937, coeff[0] = -8.81360\n",
      "Classification report: \n",
      "                       precision    recall  f1-score   support\n",
      "\n",
      "  Computer technology       0.88      0.86      0.87      1560\n",
      "Recreational activity       0.87      0.89      0.88      1590\n",
      "\n",
      "          avg / total       0.87      0.87      0.87      3150\n",
      "\n",
      "Confusion Matrix: \n",
      "[[1341  219]\n",
      " [ 179 1411]]\n",
      "============================================================\n",
      "l1 Logistic regression: c = 100000.0, accuracy = 0.873015873015873, coeff[0] = -8.85154\n",
      "Classification report: \n",
      "                       precision    recall  f1-score   support\n",
      "\n",
      "  Computer technology       0.88      0.86      0.87      1560\n",
      "Recreational activity       0.87      0.89      0.88      1590\n",
      "\n",
      "          avg / total       0.87      0.87      0.87      3150\n",
      "\n",
      "Confusion Matrix: \n",
      "[[1340  220]\n",
      " [ 180 1410]]\n",
      "============================================================\n"
     ]
    }
   ],
   "source": [
    "c = [0.001,0.1,10,1000,1e5]\n",
    "\n",
    "for c_value in c:\n",
    "    log1 = LogisticRegression(C = c_value, penalty = 'l1')\n",
    "    log1.fit(transformed_tfidf,train_targets)\n",
    "    logpredict1 = log1.predict(transformed_test_tfidf)\n",
    "    \n",
    "    print(\"l1 Logistic regression: c = {}, accuracy = {}, coeff[0] = {:0.5f}\".format(c_value, np.mean(logpredict1 == test_targets),log1.coef_[0][0]))\n",
    "    print(\"Classification report: \")\n",
    "    print(classification_report(test_targets, logpredict1, target_names=['Computer technology', 'Recreational activity']))\n",
    "    print(\"Confusion Matrix: \")\n",
    "    print(confusion_matrix(test_targets, logpredict1))\n",
    "    print(\"=\"*60)"
   ]
  },
  {
   "cell_type": "markdown",
   "metadata": {},
   "source": [
    "$l_2$ norm regularizations "
   ]
  },
  {
   "cell_type": "code",
   "execution_count": 27,
   "metadata": {
    "scrolled": true
   },
   "outputs": [
    {
     "name": "stdout",
     "output_type": "stream",
     "text": [
      "l2 Logistic regression: c = 0.001, accuracy = 0.7885714285714286, coeff[0] = -0.02271\n",
      "Classification report: \n",
      "                       precision    recall  f1-score   support\n",
      "\n",
      "  Computer technology       1.00      0.57      0.73      1560\n",
      "Recreational activity       0.70      1.00      0.83      1590\n",
      "\n",
      "          avg / total       0.85      0.79      0.78      3150\n",
      "\n",
      "Confusion Matrix: \n",
      "[[ 894  666]\n",
      " [   0 1590]]\n",
      "============================================================\n",
      "l2 Logistic regression: c = 0.1, accuracy = 0.9304761904761905, coeff[0] = -1.28118\n",
      "Classification report: \n",
      "                       precision    recall  f1-score   support\n",
      "\n",
      "  Computer technology       0.94      0.92      0.93      1560\n",
      "Recreational activity       0.92      0.94      0.93      1590\n",
      "\n",
      "          avg / total       0.93      0.93      0.93      3150\n",
      "\n",
      "Confusion Matrix: \n",
      "[[1439  121]\n",
      " [  98 1492]]\n",
      "============================================================\n",
      "l2 Logistic regression: c = 10, accuracy = 0.900952380952381, coeff[0] = -4.92102\n",
      "Classification report: \n",
      "                       precision    recall  f1-score   support\n",
      "\n",
      "  Computer technology       0.90      0.90      0.90      1560\n",
      "Recreational activity       0.90      0.90      0.90      1590\n",
      "\n",
      "          avg / total       0.90      0.90      0.90      3150\n",
      "\n",
      "Confusion Matrix: \n",
      "[[1403  157]\n",
      " [ 155 1435]]\n",
      "============================================================\n",
      "l2 Logistic regression: c = 1000, accuracy = 0.873968253968254, coeff[0] = -7.92829\n",
      "Classification report: \n",
      "                       precision    recall  f1-score   support\n",
      "\n",
      "  Computer technology       0.88      0.86      0.87      1560\n",
      "Recreational activity       0.87      0.89      0.88      1590\n",
      "\n",
      "          avg / total       0.87      0.87      0.87      3150\n",
      "\n",
      "Confusion Matrix: \n",
      "[[1342  218]\n",
      " [ 179 1411]]\n",
      "============================================================\n",
      "l2 Logistic regression: c = 100000.0, accuracy = 0.8733333333333333, coeff[0] = -8.89134\n",
      "Classification report: \n",
      "                       precision    recall  f1-score   support\n",
      "\n",
      "  Computer technology       0.88      0.86      0.87      1560\n",
      "Recreational activity       0.87      0.89      0.88      1590\n",
      "\n",
      "          avg / total       0.87      0.87      0.87      3150\n",
      "\n",
      "Confusion Matrix: \n",
      "[[1341  219]\n",
      " [ 180 1410]]\n",
      "============================================================\n"
     ]
    }
   ],
   "source": [
    "for c_value in c:\n",
    "    log2 = LogisticRegression(C = c_value, penalty = 'l2')\n",
    "    log2.fit(transformed_tfidf,train_targets)\n",
    "    logpredict2 = log2.predict(transformed_test_tfidf)\n",
    "    \n",
    "    print(\"l2 Logistic regression: c = {}, accuracy = {}, coeff[0] = {:0.5f}\".format(c_value, np.mean(logpredict2 == test_targets),log2.coef_[0][0]))\n",
    "    print(\"Classification report: \")\n",
    "    print(classification_report(test_targets, logpredict2, target_names=['Computer technology', 'Recreational activity']))\n",
    "    print(\"Confusion Matrix: \")\n",
    "    print(confusion_matrix(test_targets, logpredict2))\n",
    "    print(\"=\"*60)"
   ]
  },
  {
   "cell_type": "markdown",
   "metadata": {},
   "source": [
    "## Multiclass Classification"
   ]
  },
  {
   "cell_type": "markdown",
   "metadata": {},
   "source": [
    "Train classifiers on the documents belonging to the classes mentioned in part b;\n",
    "namely\n",
    "\n",
    "    comp.sys.ibm.pc.hardware, comp.sys.mac.hardware, misc.forsale, soc.religion.christian.\n",
    "\n",
    "Perform Naïve Bayes classification and multiclass SVM classification (with both One VS One and One VS\n",
    "the rest methods described above) and report the confusion matrix and calculate the accuracy, recall\n",
    "and precision of your classifiers."
   ]
  },
  {
   "cell_type": "markdown",
   "metadata": {
    "collapsed": true
   },
   "source": [
    "**Preparing Data**"
   ]
  },
  {
   "cell_type": "code",
   "execution_count": 31,
   "metadata": {},
   "outputs": [],
   "source": [
    "subcategories = ['comp.sys.ibm.pc.hardware','comp.sys.mac.hardware','misc.forsale','soc.religion.christian']\n",
    "subtrain = fetch_20newsgroups(subset='train', categories=subcategories, shuffle=True, random_state=42)\n",
    "subtest = fetch_20newsgroups(subset='test', categories=subcategories, shuffle=True, random_state=42)\n",
    "\n",
    "subtrain_counts = count_vect_final.fit_transform(subtrain.data)\n",
    "tfidf_subtrain = tfidf_transformer.fit_transform(subtrain_counts)\n",
    "transformed_subtfidf = SVD.fit_transform(tfidf_subtrain)\n",
    "\n",
    "subtest_counts = count_vect_final.fit_transform(subtest.data)#using the train CountVectorizer\n",
    "tfidf_subtest = tfidf_transformer.fit_transform(subtest_counts)#using the train TfidfTransformer\n",
    "transformed_subtest_tfidf = SVD.fit_transform(tfidf_subtest)#using the train TruncatedSVD\n",
    "\n",
    "scaled_subtfidf= min_max_scaler.fit_transform(transformed_subtfidf)\n",
    "scaled_subtest_tfidf = min_max_scaler.fit_transform(transformed_subtest_tfidf)"
   ]
  },
  {
   "cell_type": "markdown",
   "metadata": {},
   "source": [
    "**Naïve Bayes classification**"
   ]
  },
  {
   "cell_type": "code",
   "execution_count": 35,
   "metadata": {},
   "outputs": [
    {
     "name": "stdout",
     "output_type": "stream",
     "text": [
      "Accuracy of multinomial naïve Bayes: 0.448562300319\n",
      "------------------------------------------------------------\n",
      "Classification report: \n",
      "                          precision    recall  f1-score   support\n",
      "\n",
      "comp.sys.ibm.pc.hardware       0.33      0.76      0.46       392\n",
      "   comp.sys.mac.hardware       0.03      0.01      0.02       385\n",
      "            misc.forsale       0.07      0.02      0.03       390\n",
      "  soc.religion.christian       0.90      0.99      0.94       398\n",
      "\n",
      "             avg / total       0.34      0.45      0.37      1565\n",
      "\n",
      "------------------------------------------------------------\n",
      "Confusion Matrix: \n",
      "[[296  33  41  22]\n",
      " [336   5  36   8]\n",
      " [255 116   6  13]\n",
      " [  2   1   0 395]]\n"
     ]
    }
   ],
   "source": [
    "subNB = MultinomialNB()\n",
    "subNB.fit(scaled_subtfidf, subtrain.target)\n",
    "subNBprediction = subNB.predict(scaled_subtest_tfidf)\n",
    "subNBaccuracy = np.mean(subNBprediction == subtest.target)\n",
    "\n",
    "# Report results\n",
    "print(\"Accuracy of multinomial naïve Bayes: \" + str(subNBaccuracy))\n",
    "print(\"-\"*60)\n",
    "print(\"Classification report: \")\n",
    "print(classification_report(subtest.target, subNBprediction, target_names=subcategories))\n",
    "print(\"-\"*60)\n",
    "print(\"Confusion Matrix: \")\n",
    "print(confusion_matrix(subtest.target, subNBprediction))"
   ]
  },
  {
   "cell_type": "markdown",
   "metadata": {},
   "source": [
    "**multiclass SVM classification**"
   ]
  },
  {
   "cell_type": "code",
   "execution_count": 39,
   "metadata": {},
   "outputs": [
    {
     "name": "stdout",
     "output_type": "stream",
     "text": [
      "Accuracy of multiclass SVM classification: 0.354632587859\n",
      "------------------------------------------------------------\n",
      "Classification report: \n",
      "                          precision    recall  f1-score   support\n",
      "\n",
      "comp.sys.ibm.pc.hardware       0.37      0.30      0.33       392\n",
      "   comp.sys.mac.hardware       0.09      0.09      0.09       385\n",
      "            misc.forsale       0.03      0.04      0.03       390\n",
      "  soc.religion.christian       0.97      0.98      0.97       398\n",
      "\n",
      "             avg / total       0.37      0.35      0.36      1565\n",
      "\n",
      "------------------------------------------------------------\n",
      "Confusion Matrix: \n",
      "[[119  42 226   5]\n",
      " [129  33 220   3]\n",
      " [ 76 295  14   5]\n",
      " [  0   8   1 389]]\n"
     ]
    }
   ],
   "source": [
    "m_classifier = svm.LinearSVC( C=0.01 ,dual=False, random_state=42)\n",
    "m_classifier.fit(transformed_subtfidf, subtrain.target)\n",
    "\n",
    "predict_m = m_classifier.predict(transformed_subtest_tfidf)\n",
    "score_m = m_classifier.decision_function(transformed_subtest_tfidf)\n",
    "accuracy_m = np.mean(predict_m == subtest.target)\n",
    "\n",
    "# Report results\n",
    "print(\"Accuracy of multiclass SVM classification: \" + str(accuracy_m))\n",
    "print(\"-\"*60)\n",
    "print(\"Classification report: \")\n",
    "print(classification_report(subtest.target, predict_m, target_names=subcategories))\n",
    "print(\"-\"*60)\n",
    "print(\"Confusion Matrix: \")\n",
    "print(confusion_matrix(subtest.target, predict_m))"
   ]
  },
  {
   "cell_type": "code",
   "execution_count": null,
   "metadata": {
    "collapsed": true
   },
   "outputs": [],
   "source": []
  }
 ],
 "metadata": {
  "kernelspec": {
   "display_name": "Python 3",
   "language": "python",
   "name": "python3"
  },
  "language_info": {
   "codemirror_mode": {
    "name": "ipython",
    "version": 3
   },
   "file_extension": ".py",
   "mimetype": "text/x-python",
   "name": "python",
   "nbconvert_exporter": "python",
   "pygments_lexer": "ipython3",
   "version": "3.6.3"
  }
 },
 "nbformat": 4,
 "nbformat_minor": 2
}
