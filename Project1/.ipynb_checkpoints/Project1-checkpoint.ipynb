{
 "cells": [
  {
   "cell_type": "markdown",
   "metadata": {},
   "source": [
    "# Project1 Classification Analysis on Textual Data"
   ]
  },
  {
   "cell_type": "markdown",
   "metadata": {},
   "source": [
    "### Problem A"
   ]
  },
  {
   "cell_type": "markdown",
   "metadata": {},
   "source": [
    "Load Files"
   ]
  },
  {
   "cell_type": "code",
   "execution_count": 1,
   "metadata": {},
   "outputs": [],
   "source": [
    "from sklearn.datasets import fetch_20newsgroups\n",
    "categories = ['comp.graphics', 'comp.os.ms-windows.misc', 'comp.sys.ibm.pc.hardware','comp.sys.mac.hardware','rec.autos','rec.motorcycles','rec.sport.baseball','rec.sport.hockey']\n",
    "train = fetch_20newsgroups(subset='train', categories=categories, shuffle=True, random_state=42)"
   ]
  },
  {
   "cell_type": "code",
   "execution_count": 2,
   "metadata": {},
   "outputs": [
    {
     "data": {
      "image/png": "[encoded data removed]",
      "text/plain": [
       "<matplotlib.figure.Figure at 0x1c18da9ae80>"
      ]
     },
     "metadata": {},
     "output_type": "display_data"
    }
   ],
   "source": [
    "import matplotlib.pyplot as plt\n",
    "\n",
    "value = {}\n",
    "for i in train.target:\n",
    "    if i not in value:\n",
    "        value[i] = 0\n",
    "    else:\n",
    "        value[i] += 1\n",
    "fig = plt.figure()\n",
    "ax = fig.add_subplot(111)\n",
    "colors = ['b','g','r','y','m','c','pink','k']\n",
    "plt.barh(train.target_names, list(value.values()),alpha=0.8, color=colors)\n",
    "plt.xlabel('Class')\n",
    "plt.ylabel('Number')\n",
    "plt.title('the Number of Documents per Class')\n",
    "plt.show()"
   ]
  },
  {
   "cell_type": "markdown",
   "metadata": {
    "collapsed": true
   },
   "source": [
    "### Problem B"
   ]
  },
  {
   "cell_type": "markdown",
   "metadata": {},
   "source": [
    "First tokenize each document into words."
   ]
  },
  {
   "cell_type": "code",
   "execution_count": 3,
   "metadata": {},
   "outputs": [
    {
     "data": {
      "text/plain": [
       "(4732, 79218)"
      ]
     },
     "execution_count": 3,
     "metadata": {},
     "output_type": "execute_result"
    }
   ],
   "source": [
    "from sklearn.feature_extraction.text import CountVectorizer\n",
    "count_vectorizer = CountVectorizer(min_df=1)\n",
    "train_counts = count_vectorizer.fit_transform(train.data)\n",
    "train_counts.shape"
   ]
  },
  {
   "cell_type": "markdown",
   "metadata": {},
   "source": [
    "Then, excluding the stop words, punctuations, and using stemmed version of words, create a TFxIDF vector representations."
   ]
  },
  {
   "cell_type": "code",
   "execution_count": 4,
   "metadata": {},
   "outputs": [
    {
     "name": "stdout",
     "output_type": "stream",
     "text": [
      "Number of terms Extracted : 10741\n",
      "Number of terms Extracted if mid_df=2: 21793\n",
      "Number of terms Extracted if mid_df=5: 8816\n"
     ]
    }
   ],
   "source": [
    "from sklearn.feature_extraction import text\n",
    "from nltk.stem.snowball import SnowballStemmer\n",
    "import string,re\n",
    "\n",
    "def stemming_tokenizer(text):\n",
    "    stemmer = SnowballStemmer(\"english\")\n",
    "    text = \"\".join([a for a in text if a not in string.punctuation]) # remove all punctuation\n",
    "    text = re.sub('[,.-:/()?{}*$#&]',' ', text) # remove all symbols\n",
    "    text = \"\".join(b for b in text if ord(b) < 128) # remove all non-ascii characters\n",
    "    words = text.split()\n",
    "    stemmed = [stemmer.stem(item) for item in words]\n",
    "    return stemmed\n",
    "\n",
    "stop_words = text.ENGLISH_STOP_WORDS\n",
    "\n",
    "count_vect_final = CountVectorizer(analyzer='word' , tokenizer=stemming_tokenizer, stop_words=stop_words, min_df=4, max_df =0.99)\n",
    "train_counts_final = count_vect_final.fit_transform(train.data)\n",
    "\n",
    "count_vect_2 = CountVectorizer(analyzer='word' , tokenizer=stemming_tokenizer, stop_words=stop_words, min_df=2, max_df =0.99)\n",
    "train_counts_2 = count_vect_2.fit_transform(train.data)\n",
    "\n",
    "count_vect_5 = CountVectorizer(analyzer='word' , tokenizer=stemming_tokenizer, stop_words=stop_words, min_df=5, max_df =0.99)\n",
    "train_counts_5 = count_vect_5.fit_transform(train.data)\n",
    "\n",
    "print (\"Number of terms Extracted : \" + str(train_counts_final.shape[1]))\n",
    "print (\"Number of terms Extracted if mid_df=2: \" + str(train_counts_2.shape[1]))\n",
    "print (\"Number of terms Extracted if mid_df=5: \" + str(train_counts_5.shape[1]))"
   ]
  },
  {
   "cell_type": "markdown",
   "metadata": {},
   "source": [
    "TFxIDF"
   ]
  },
  {
   "cell_type": "code",
   "execution_count": 5,
   "metadata": {},
   "outputs": [
    {
     "data": {
      "text/plain": [
       "(4732, 10741)"
      ]
     },
     "execution_count": 5,
     "metadata": {},
     "output_type": "execute_result"
    }
   ],
   "source": [
    "from sklearn.feature_extraction.text import TfidfTransformer\n",
    "\n",
    "tfidf_transformer = TfidfTransformer()\n",
    "tfidf_train = tfidf_transformer.fit_transform(train_counts_final)\n",
    "tfidf_train.shape"
   ]
  },
  {
   "cell_type": "markdown",
   "metadata": {},
   "source": [
    "### Problem C"
   ]
  },
  {
   "cell_type": "markdown",
   "metadata": {},
   "source": [
    "Find the 10 most significant terms in each of the following classes with respect to TFxICF measure."
   ]
  },
  {
   "cell_type": "markdown",
   "metadata": {},
   "source": [
    "TF -- the term frequency in a class"
   ]
  },
  {
   "cell_type": "code",
   "execution_count": 6,
   "metadata": {},
   "outputs": [
    {
     "data": {
      "text/plain": [
       "(20, 111882)"
      ]
     },
     "execution_count": 6,
     "metadata": {},
     "output_type": "execute_result"
    }
   ],
   "source": [
    "all_categories = ['comp.graphics',\n",
    "                'comp.os.ms-windows.misc',\n",
    "                'comp.sys.ibm.pc.hardware',\n",
    "                'comp.sys.mac.hardware',\n",
    "                'comp.windows.x',\n",
    "                'rec.autos',\n",
    "                'rec.motorcycles',\n",
    "                'rec.sport.baseball',\n",
    "                'rec.sport.hockey',\n",
    "                'alt.atheism',\n",
    "                'sci.crypt',\n",
    "                'sci.electronics',\n",
    "                'sci.med',\n",
    "                'sci.space',\n",
    "                'soc.religion.christian',\n",
    "                'misc.forsale',\n",
    "                'talk.politics.guns',\n",
    "                'talk.politics.mideast',\n",
    "                'talk.politics.misc',\n",
    "                'talk.religion.misc'\n",
    "                ]\n",
    "\n",
    "all_docs_per_category = []\n",
    "for cate in all_categories:\n",
    "    category_data = fetch_20newsgroups(subset='train',categories=[cate]).data\n",
    "    temp = \"\"\n",
    "    for doc in category_data:\n",
    "        temp = temp + \" \"+ doc\n",
    "    all_docs_per_category.append(temp)\n",
    "    \n",
    "vectorizer = CountVectorizer(analyzer='word',stop_words=stop_words, tokenizer=stemming_tokenizer)\n",
    "vectorized_newsgroups_train = vectorizer.fit_transform(all_docs_per_category)\n",
    "vectorized_newsgroups_train.shape"
   ]
  },
  {
   "cell_type": "markdown",
   "metadata": {},
   "source": [
    "Calculate the TFxICF"
   ]
  },
  {
   "cell_type": "code",
   "execution_count": 7,
   "metadata": {
    "scrolled": true
   },
   "outputs": [],
   "source": [
    "tficf_train = tfidf_transformer.fit_transform(vectorized_newsgroups_train)"
   ]
  },
  {
   "cell_type": "markdown",
   "metadata": {},
   "source": [
    "Find the 10 most significant terms"
   ]
  },
  {
   "cell_type": "code",
   "execution_count": 8,
   "metadata": {},
   "outputs": [
    {
     "name": "stdout",
     "output_type": "stream",
     "text": [
      "comp.sys.ibm.pc.hardware ['scsi', 'drive', 'ide', 'use', 'line', 'subject', 'organ', 'card', 'control', 'mb']\n",
      "comp.sys.mac.hardware ['line', 'mac', 'subject', 'organ', 'use', 'quadra', 'simm', 'appl', 'scsi', 'problem']\n",
      "soc.religion.christian ['god', 'christian', 'jesus', 'church', 'subject', 'peopl', 'line', 'say', 'christ', 'believ']\n",
      "misc.forsale ['line', 'subject', 'sale', 'organ', 'univers', 'new', 'use', 'offer', 'dos', 'nntppostinghost']\n"
     ]
    }
   ],
   "source": [
    "import numpy as np\n",
    "\n",
    "tficf_train_copy = tficf_train.copy()\n",
    "features = vectorizer.get_feature_names()\n",
    "for i in [2, 3, 14, 15]:\n",
    "    temp = []\n",
    "    for j in range(10):\n",
    "        temp.append(features[np.argmax(tficf_train_copy[i])])\n",
    "        tficf_train_copy[i, np.argmax(tficf_train_copy[i])] = 0\n",
    "    print(all_categories[i],temp)"
   ]
  },
  {
   "cell_type": "markdown",
   "metadata": {},
   "source": [
    "### Problem D"
   ]
  },
  {
   "cell_type": "markdown",
   "metadata": {},
   "source": [
    "Apply **LSI** to TFxIDF matrix corresponding to the 8 classes, and pick k=50."
   ]
  },
  {
   "cell_type": "code",
   "execution_count": 9,
   "metadata": {},
   "outputs": [
    {
     "name": "stdout",
     "output_type": "stream",
     "text": [
      "Dimensions of TF-IDF vector after LSI: (4732, 50)\n"
     ]
    }
   ],
   "source": [
    "from sklearn.decomposition import TruncatedSVD\n",
    "\n",
    "SVD = TruncatedSVD(n_components=50, random_state=42)\n",
    "transformed_tfidf = SVD.fit_transform(tfidf_train)\n",
    "print(\"Dimensions of TF-IDF vector after LSI: \"+ str(transformed_tfidf.shape))"
   ]
  },
  {
   "cell_type": "markdown",
   "metadata": {},
   "source": [
    "Alternatively, reduce dimensionality through Non-Negeative Matrix Factorization(**NMF**), and pick k=50."
   ]
  },
  {
   "cell_type": "code",
   "execution_count": 10,
   "metadata": {},
   "outputs": [
    {
     "data": {
      "text/plain": [
       "(4732, 50)"
      ]
     },
     "execution_count": 10,
     "metadata": {},
     "output_type": "execute_result"
    }
   ],
   "source": [
    "from sklearn.decomposition import NMF\n",
    "\n",
    "trainNMF = NMF(n_components=50, init='random', random_state=42)\n",
    "NMFed_train = trainNMF.fit_transform(tfidf_train)\n",
    "NMFed_train.shape"
   ]
  },
  {
   "cell_type": "markdown",
   "metadata": {},
   "source": [
    "### Problem E"
   ]
  },
  {
   "cell_type": "markdown",
   "metadata": {},
   "source": [
    "Use hard margin SVM classifer (SVC) to separate the documents into 'Computer Technology' vs 'Recreational Activity' groups."
   ]
  },
  {
   "cell_type": "markdown",
   "metadata": {
    "collapsed": true
   },
   "source": [
    "#### Build a hard margin SVM classifier(SVC)"
   ]
  },
  {
   "cell_type": "code",
   "execution_count": 50,
   "metadata": {
    "scrolled": true
   },
   "outputs": [
    {
     "data": {
      "text/plain": [
       "LinearSVC(C=1000, class_weight=None, dual=False, fit_intercept=True,\n",
       "     intercept_scaling=1, loss='squared_hinge', max_iter=1000,\n",
       "     multi_class='ovr', penalty='l2', random_state=42, tol=0.0001,\n",
       "     verbose=0)"
      ]
     },
     "execution_count": 50,
     "metadata": {},
     "output_type": "execute_result"
    }
   ],
   "source": [
    "from sklearn import svm\n",
    "hard_classifier = svm.LinearSVC(C=1000 ,dual=False, random_state=42)\n",
    "train_targets = []# bigger than or equal to 4 belongs to recreational activity  \n",
    "for i in train.target:\n",
    "    if i >= 4:\n",
    "        train_targets.append(1)\n",
    "    else:\n",
    "        train_targets.append(0)\n",
    "        \n",
    "hard_classifier.fit(transformed_tfidf, train_targets)#train the classifier"
   ]
  },
  {
   "cell_type": "markdown",
   "metadata": {},
   "source": [
    "Preparing the test data"
   ]
  },
  {
   "cell_type": "code",
   "execution_count": 51,
   "metadata": {},
   "outputs": [],
   "source": [
    "test = fetch_20newsgroups(subset=\"test\", categories=categories, shuffle=True, random_state=42)\n",
    "test_counts = count_vect_final.fit_transform(test.data)#using the train CountVectorizer\n",
    "tfidf_test = tfidf_transformer.fit_transform(test_counts)#using the train TfidfTransformer\n",
    "transformed_test_tfidf = SVD.fit_transform(tfidf_test)#using the train TruncatedSVD\n",
    "\n",
    "test_targets = []# bigger than or equal to 4 belongs to recreational activity  \n",
    "for i in test.target:\n",
    "    if i >= 4:\n",
    "        test_targets.append(1)\n",
    "    else:\n",
    "        test_targets.append(0)"
   ]
  },
  {
   "cell_type": "markdown",
   "metadata": {},
   "source": [
    "Predict the test data"
   ]
  },
  {
   "cell_type": "code",
   "execution_count": 52,
   "metadata": {},
   "outputs": [],
   "source": [
    "predicted = hard_classifier.predict(transformed_test_tfidf)"
   ]
  },
  {
   "cell_type": "markdown",
   "metadata": {},
   "source": [
    "plot the ROC curve, report the confusion matrix and calculate the accuracy, recall and precision of classifier."
   ]
  },
  {
   "cell_type": "code",
   "execution_count": 53,
   "metadata": {},
   "outputs": [
    {
     "name": "stdout",
     "output_type": "stream",
     "text": [
      "Accuracy of Hard Margin SVM: 0.873968253968\n",
      "------------------------------------------------------------\n",
      "Classification report: \n",
      "                       precision    recall  f1-score   support\n",
      "\n",
      "  Computer technology       0.88      0.86      0.87      1560\n",
      "Recreational activity       0.87      0.89      0.88      1590\n",
      "\n",
      "          avg / total       0.87      0.87      0.87      3150\n",
      "\n",
      "------------------------------------------------------------\n",
      "Confusion Matrix: \n",
      "[[1345  215]\n",
      " [ 182 1408]]\n",
      "------------------------------------------------------------\n"
     ]
    },
    {
     "data": {
      "image/png": "[encoded data removed]",
      "text/plain": [
       "<matplotlib.figure.Figure at 0x1c1930d8710>"
      ]
     },
     "metadata": {},
     "output_type": "display_data"
    }
   ],
   "source": [
    "from sklearn.metrics import classification_report, confusion_matrix, roc_curve\n",
    "\n",
    "score = hard_classifier.decision_function(transformed_test_tfidf)\n",
    "accuracy = np.mean(predicted == test_targets)\n",
    "# Report results\n",
    "print(\"Accuracy of Hard Margin SVM: \" + str(accuracy))\n",
    "print(\"-\"*60)\n",
    "print(\"Classification report: \")\n",
    "print(classification_report(test_targets, predicted, target_names=['Computer technology', 'Recreational activity']))\n",
    "print(\"-\"*60)\n",
    "print(\"Confusion Matrix: \")\n",
    "print(confusion_matrix(test_targets, predicted))\n",
    "print(\"-\"*60)\n",
    "\n",
    "fpr, tpr, threshold = roc_curve(test_targets, score)\n",
    "line = [0, 1]\n",
    "plt.figure(figsize=(10,10))\n",
    "plt.plot(fpr, tpr)\n",
    "plt.plot([0,1],[0,1])\n",
    "plt.ylabel('True Positive Rate', fontsize = 20)\n",
    "plt.xlabel('False Positive Rate', fontsize = 20)\n",
    "plt.title('ROC-Curve of Hard Margin SVM Classification', fontsize = 20)\n",
    "plt.axis([-0.004, 1, 0, 1.006])\n",
    "plt.show()"
   ]
  },
  {
   "cell_type": "markdown",
   "metadata": {},
   "source": [
    "#### Build a soft margin SVM classifier"
   ]
  },
  {
   "cell_type": "code",
   "execution_count": 54,
   "metadata": {},
   "outputs": [
    {
     "data": {
      "text/plain": [
       "LinearSVC(C=0.001, class_weight=None, dual=False, fit_intercept=True,\n",
       "     intercept_scaling=1, loss='squared_hinge', max_iter=1000,\n",
       "     multi_class='ovr', penalty='l2', random_state=42, tol=0.0001,\n",
       "     verbose=0)"
      ]
     },
     "execution_count": 54,
     "metadata": {},
     "output_type": "execute_result"
    }
   ],
   "source": [
    "soft_classifier = svm.LinearSVC( C=0.001 ,dual=False, random_state=42)\n",
    "soft_classifier.fit(transformed_tfidf, train_targets)"
   ]
  },
  {
   "cell_type": "code",
   "execution_count": 56,
   "metadata": {},
   "outputs": [
    {
     "name": "stdout",
     "output_type": "stream",
     "text": [
      "Accuracy of soft margin Linear SVM: 0.925079365079\n",
      "------------------------------------------------------------\n",
      "Classification report: \n",
      "                       precision    recall  f1-score   support\n",
      "\n",
      "  Computer technology       0.97      0.88      0.92      1560\n",
      "Recreational activity       0.89      0.97      0.93      1590\n",
      "\n",
      "          avg / total       0.93      0.93      0.92      3150\n",
      "\n",
      "------------------------------------------------------------\n",
      "Confusion Matrix: \n",
      "[[1370  190]\n",
      " [  46 1544]]\n",
      "------------------------------------------------------------\n"
     ]
    },
    {
     "data": {
      "image/png": "[encoded data removed]",
      "text/plain": [
       "<matplotlib.figure.Figure at 0x1c192ddedd8>"
      ]
     },
     "metadata": {},
     "output_type": "display_data"
    }
   ],
   "source": [
    "predicted_soft = soft_classifier.predict(transformed_test_tfidf)\n",
    "score_soft = soft_classifier.decision_function(transformed_test_tfidf)\n",
    "accuracy_soft = np.mean(predicted_soft == test_targets)\n",
    "# Report results\n",
    "print(\"Accuracy of soft margin Linear SVM: \" + str(accuracy_soft))\n",
    "print(\"-\"*60)\n",
    "print(\"Classification report: \")\n",
    "print(classification_report(test_targets, predicted_soft, target_names=['Computer technology', 'Recreational activity']))\n",
    "print(\"-\"*60)\n",
    "print(\"Confusion Matrix: \")\n",
    "print(confusion_matrix(test_targets, predicted_soft))\n",
    "print(\"-\"*60)\n",
    "\n",
    "fpr_soft, tpr_soft, threshold_soft = roc_curve(test_targets, score_soft)\n",
    "line = [0, 1]\n",
    "plt.figure(figsize=(10,10))\n",
    "plt.plot(fpr_soft, tpr_soft)\n",
    "plt.plot([0,1],[0,1])\n",
    "plt.ylabel('True Positive Rate', fontsize = 20)\n",
    "plt.xlabel('False Positive Rate', fontsize = 20)\n",
    "plt.title('ROC-Curve of Soft Margin SVM Classification', fontsize = 20)\n",
    "plt.axis([-0.004, 1, 0, 1.006])\n",
    "plt.show()"
   ]
  },
  {
   "cell_type": "markdown",
   "metadata": {},
   "source": [
    "### Problem F"
   ]
  },
  {
   "cell_type": "code",
   "execution_count": null,
   "metadata": {},
   "outputs": [],
   "source": []
  }
 ],
 "metadata": {
  "kernelspec": {
   "display_name": "Python 3",
   "language": "python",
   "name": "python3"
  },
  "language_info": {
   "codemirror_mode": {
    "name": "ipython",
    "version": 3
   },
   "file_extension": ".py",
   "mimetype": "text/x-python",
   "name": "python",
   "nbconvert_exporter": "python",
   "pygments_lexer": "ipython3",
   "version": "3.6.3"
  }
 },
 "nbformat": 4,
 "nbformat_minor": 2
}
